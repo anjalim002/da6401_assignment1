{
  "nbformat": 4,
  "nbformat_minor": 0,
  "metadata": {
    "colab": {
      "provenance": []
    },
    "kernelspec": {
      "name": "python3",
      "display_name": "Python 3"
    },
    "language_info": {
      "name": "python"
    }
  },
  "cells": [
    {
      "cell_type": "markdown",
      "source": [
        "<img src=\"http://wandb.me/logo-im-png\" width=\"400\" alt=\"Weights & Biases\" />\n",
        "<!--- @wandbcode{intro-colab} -->"
      ],
      "metadata": {
        "id": "Rhzs53Q3pHdH"
      }
    },
    {
      "cell_type": "code",
      "source": [
        "!pip install wandb -qU"
      ],
      "metadata": {
        "id": "fDhpbsrmpTvU"
      },
      "execution_count": 1,
      "outputs": []
    },
    {
      "cell_type": "code",
      "source": [
        "import wandb"
      ],
      "metadata": {
        "id": "CmhrDacPpZEF"
      },
      "execution_count": 2,
      "outputs": []
    },
    {
      "cell_type": "code",
      "source": [
        "wandb.login()"
      ],
      "metadata": {
        "colab": {
          "base_uri": "https://localhost:8080/",
          "height": 228
        },
        "id": "lo6evH5BpZjI",
        "outputId": "af652223-a4b0-4a8c-d271-6577e87976df"
      },
      "execution_count": 3,
      "outputs": [
        {
          "output_type": "stream",
          "name": "stderr",
          "text": [
            "\u001b[34m\u001b[1mwandb\u001b[0m: Using wandb-core as the SDK backend.  Please refer to https://wandb.me/wandb-core for more information.\n"
          ]
        },
        {
          "output_type": "display_data",
          "data": {
            "text/plain": [
              "<IPython.core.display.Javascript object>"
            ],
            "application/javascript": [
              "\n",
              "        window._wandbApiKey = new Promise((resolve, reject) => {\n",
              "            function loadScript(url) {\n",
              "            return new Promise(function(resolve, reject) {\n",
              "                let newScript = document.createElement(\"script\");\n",
              "                newScript.onerror = reject;\n",
              "                newScript.onload = resolve;\n",
              "                document.body.appendChild(newScript);\n",
              "                newScript.src = url;\n",
              "            });\n",
              "            }\n",
              "            loadScript(\"https://cdn.jsdelivr.net/npm/postmate/build/postmate.min.js\").then(() => {\n",
              "            const iframe = document.createElement('iframe')\n",
              "            iframe.style.cssText = \"width:0;height:0;border:none\"\n",
              "            document.body.appendChild(iframe)\n",
              "            const handshake = new Postmate({\n",
              "                container: iframe,\n",
              "                url: 'https://wandb.ai/authorize'\n",
              "            });\n",
              "            const timeout = setTimeout(() => reject(\"Couldn't auto authenticate\"), 5000)\n",
              "            handshake.then(function(child) {\n",
              "                child.on('authorize', data => {\n",
              "                    clearTimeout(timeout)\n",
              "                    resolve(data)\n",
              "                });\n",
              "            });\n",
              "            })\n",
              "        });\n",
              "    "
            ]
          },
          "metadata": {}
        },
        {
          "output_type": "stream",
          "name": "stderr",
          "text": [
            "\u001b[34m\u001b[1mwandb\u001b[0m: Logging into wandb.ai. (Learn how to deploy a W&B server locally: https://wandb.me/wandb-server)\n",
            "\u001b[34m\u001b[1mwandb\u001b[0m: You can find your API key in your browser here: https://wandb.ai/authorize\n",
            "wandb: Paste an API key from your profile and hit enter:"
          ]
        },
        {
          "name": "stdout",
          "output_type": "stream",
          "text": [
            " ··········\n"
          ]
        },
        {
          "output_type": "stream",
          "name": "stderr",
          "text": [
            "\u001b[34m\u001b[1mwandb\u001b[0m: \u001b[33mWARNING\u001b[0m If you're specifying your api key in code, ensure this code is not shared publicly.\n",
            "\u001b[34m\u001b[1mwandb\u001b[0m: \u001b[33mWARNING\u001b[0m Consider setting the WANDB_API_KEY environment variable, or running `wandb login` from the command line.\n",
            "\u001b[34m\u001b[1mwandb\u001b[0m: No netrc file found, creating one.\n",
            "\u001b[34m\u001b[1mwandb\u001b[0m: Appending key for api.wandb.ai to your netrc file: /root/.netrc\n",
            "\u001b[34m\u001b[1mwandb\u001b[0m: Currently logged in as: \u001b[33manjaliv\u001b[0m (\u001b[33manjaliv-indian-institute-of-technology-madras\u001b[0m) to \u001b[32mhttps://api.wandb.ai\u001b[0m. Use \u001b[1m`wandb login --relogin`\u001b[0m to force relogin\n"
          ]
        },
        {
          "output_type": "execute_result",
          "data": {
            "text/plain": [
              "True"
            ]
          },
          "metadata": {},
          "execution_count": 3
        }
      ]
    },
    {
      "cell_type": "code",
      "source": [
        "import numpy as np\n",
        "import matplotlib.pyplot as plt\n",
        "from keras.datasets import fashion_mnist\n",
        "\n",
        "# Load the Fashion-MNIST dataset\n",
        "(x_train, y_train), (X_test,Y_test) = fashion_mnist.load_data()\n",
        "\n",
        "# print(x_train.shape)\n",
        "# print(y_train.shape)\n",
        "# print(x_train[0])\n",
        "# print(y_train[0])\n",
        "\n",
        "# Define class labels\n",
        "class_labels = {\n",
        "    0: 'T-shirt',\n",
        "    1: 'Trouser',\n",
        "    2: 'Pullover',\n",
        "    3: 'Dress',\n",
        "    4: 'Coat',\n",
        "    5: 'Sandal',\n",
        "    6: 'Shirt',\n",
        "    7: 'Sneaker',\n",
        "    8: 'Bag',\n",
        "    9: 'boot'\n",
        "}\n",
        "\n",
        "# Plot one sample image for each class\n",
        "fig, axes = plt.subplots(2, 5, figsize=(12, 6))\n",
        "axes = axes.ravel()\n",
        "\n",
        "for i in range(10):\n",
        "    # Find the first image of current class\n",
        "    idx = np.where(y_train == i)[0][0]\n",
        "    # Plot the image\n",
        "    axes[i].imshow(x_train[idx], cmap='gray')\n",
        "    axes[i].set_title(class_labels[i])\n",
        "    axes[i].axis('off')\n",
        "\n",
        "plt.tight_layout()\n",
        "plt.show()\n",
        "\n",
        "#x_train.shape\n"
      ],
      "metadata": {
        "colab": {
          "base_uri": "https://localhost:8080/",
          "height": 684
        },
        "id": "3-9LEKr1penD",
        "outputId": "89a9b14d-1ed5-4282-8022-853af033a223"
      },
      "execution_count": 4,
      "outputs": [
        {
          "output_type": "stream",
          "name": "stdout",
          "text": [
            "Downloading data from https://storage.googleapis.com/tensorflow/tf-keras-datasets/train-labels-idx1-ubyte.gz\n",
            "\u001b[1m29515/29515\u001b[0m \u001b[32m━━━━━━━━━━━━━━━━━━━━\u001b[0m\u001b[37m\u001b[0m \u001b[1m0s\u001b[0m 0us/step\n",
            "Downloading data from https://storage.googleapis.com/tensorflow/tf-keras-datasets/train-images-idx3-ubyte.gz\n",
            "\u001b[1m26421880/26421880\u001b[0m \u001b[32m━━━━━━━━━━━━━━━━━━━━\u001b[0m\u001b[37m\u001b[0m \u001b[1m0s\u001b[0m 0us/step\n",
            "Downloading data from https://storage.googleapis.com/tensorflow/tf-keras-datasets/t10k-labels-idx1-ubyte.gz\n",
            "\u001b[1m5148/5148\u001b[0m \u001b[32m━━━━━━━━━━━━━━━━━━━━\u001b[0m\u001b[37m\u001b[0m \u001b[1m0s\u001b[0m 0us/step\n",
            "Downloading data from https://storage.googleapis.com/tensorflow/tf-keras-datasets/t10k-images-idx3-ubyte.gz\n",
            "\u001b[1m4422102/4422102\u001b[0m \u001b[32m━━━━━━━━━━━━━━━━━━━━\u001b[0m\u001b[37m\u001b[0m \u001b[1m0s\u001b[0m 0us/step\n"
          ]
        },
        {
          "output_type": "display_data",
          "data": {
            "text/plain": [
              "<Figure size 1200x600 with 10 Axes>"
            ],
            "image/png": "[encoded data removed]"
          },
          "metadata": {}
        }
      ]
    },
    {
      "cell_type": "code",
      "source": [
        "# ~~~~~~~~~~~~~~~~~~~~~~~~~~~~~~~~~~~~~~~~~~~~~~~~~~~~~~~~~~~~~ NEURAL NETWORK ~~~~~~~~~~~~~~~~~~~~~~~~~~~~~~~~~~~~~~~~~~~~~~~~~~~~~~\n",
        "class NeuralNet:\n",
        "  def __init__(self, par):\n",
        "\n",
        "    #defining required paramters within this class\n",
        "    self.layer_data = {}\n",
        "    self.epoch = par['epochs']\n",
        "    self.hiddenlayers = par['hidden_layers']\n",
        "    self.inputSize = par['input_size']\n",
        "    self.outputSize = par['output_size']\n",
        "    self.eta = par['learning_rate']\n",
        "    self.beta = par['beta']\n",
        "    self.optimizer = par['optimizer']\n",
        "    self.batch = par['batch_size']\n",
        "    self.init_weight = par['weight_initilisation']\n",
        "    self.activation = par['activation']\n",
        "    self.a = {}\n",
        "    self.h = {}\n",
        "    self.dw = {}\n",
        "    self.db = {}\n",
        "    self.opt_call = optimisation_functions(self,self.optimizer,self.eta,self.beta)\n",
        "\n",
        "    L = len(self.hiddenlayers) + 1 # 1- input L - hidden 1 - output\n",
        "    self.layer_data[1] = weightsAndBiasLayer(self.inputSize,self.hiddenlayers[0])\n",
        "\n",
        "    for i in range(2 , L): # 2 , 3,\n",
        "      self.layer_data[i] = weightsAndBiasLayer(self.hiddenlayers[i-2],self.hiddenlayers[i-1])\n",
        "\n",
        "    self.layer_data[L] = weightsAndBiasLayer(self.hiddenlayers[len(self.hiddenlayers)-1],self.outputSize)\n",
        "\n",
        "\n",
        "\n",
        "\n",
        "\n",
        "  def forwardpropagate(self,x):\n",
        "\n",
        "    self.h[0] = x\n",
        "    L  = len(self.layer_data)\n",
        "    for i in range(1, L):\n",
        "      self.a[i] = self.layer_data[i].forwarding(self.h[i-1])\n",
        "      self.h[i] = self.layer_data[i].activation_function(self.activation, self.a[i])\n",
        "    self.a[L] = self.layer_data[L].forwarding(self.h[L-1])\n",
        "    y_pred = self.layer_data[L].activation_function('softmax',self.a[L])\n",
        "    return y_pred\n",
        "\n",
        "  def backwardpropagate(self, y_pred, y_true):\n",
        "\n",
        "    op_error = y_pred - y_true\n",
        "    L = len(self.layer_data)\n",
        "    n = len(y_pred)\n",
        "\n",
        "    for i in range(L, 1, -1):\n",
        "      self.dw[i] = np.dot(self.h[i-1].T,op_error) /n\n",
        "      self.db[i] = np.sum(op_error, axis=0, keepdims=True)/n\n",
        "\n",
        "      grad_layer = np.dot(op_error , self.layer_data[i].weights.T)\n",
        "      op_error = grad_layer * self.layer_data[i-1].diff_function(self.activation,self.a[i-1])\n",
        "\n",
        "    # 1\n",
        "    self.dw[1] = np.dot(self.h[0].T,op_error)/n\n",
        "    self.db[1] = np.sum(op_error, axis=0, keepdims=True)/n\n",
        "\n",
        "\n",
        "  def cross_entropy(self, y_true, y_pred):\n",
        "    y_pred = np.clip(y_pred, 1e-15, 1. - 1e-15)\n",
        "    loss = -np.sum(y_true * np.log(y_pred), axis=1)\n",
        "    loss = np.mean(loss)\n",
        "    return loss\n",
        "\n",
        "\n",
        "  def accuracy(self,y_true ,y_pred):\n",
        "    pred = np.argmax(y_pred, axis=1)\n",
        "    true = np.argmax(y_true, axis=1)\n",
        "    predict = np.sum(pred == true)\n",
        "    return (predict/len(pred))*100\n",
        "\n",
        "  def update(self):\n",
        "    for i in range(1, len(self.layer_data) + 1):\n",
        "        # Log gradients to wandb\n",
        "        wandb.log({f\"dw_layer_{i}\": np.mean(self.dw[i]), f\"db_layer_{i}\": np.mean(self.db[i])})\n",
        "\n",
        "        # Update weights\n",
        "        self.layer_data[i].weights -= (self.eta * self.dw[i])\n",
        "        self.layer_data[i].bias -= (self.eta * self.db[i])\n",
        "\n",
        "        # Log weights to wandb\n",
        "        wandb.log({f\"weights_layer_{i}\": np.mean(self.layer_data[i].weights)})\n",
        "\n",
        "\n",
        "  def train(self, X_train, Y_train):\n",
        "    run_name = f\"bs{self.batch}_ep{self.epoch}_lr{self.eta}\"  # Dynamic run name\n",
        "    wandb.init(project=\"NeuralNetwork\", name=run_name)  # Initialize wandb with dynamic name\n",
        "\n",
        "    for epochit in range(self.epoch):\n",
        "        for batch_beg in range(0, len(X_train), self.batch):\n",
        "            batch_end = batch_beg + self.batch\n",
        "            input_data = X_train[batch_beg:batch_end]\n",
        "            output_data = Y_train[batch_beg:batch_end]\n",
        "\n",
        "            y_pred = self.forwardpropagate(input_data)\n",
        "            self.backwardpropagate(y_pred, output_data)\n",
        "            self.opt_call.update_rule()\n",
        "\n",
        "        y_pred = self.forwardpropagate(X_train)\n",
        "        loss = self.cross_entropy(Y_train, y_pred)\n",
        "        acc = self.accuracy(Y_train, y_pred)\n",
        "\n",
        "        wandb.log({\"Epoch\": epochit + 1, \"Loss\": loss, \"Accuracy\": acc})\n",
        "        print(f\"Epoch: {epochit + 1} Loss: {loss:.4f} Accuracy: {acc:.2f}%\")\n",
        "    wandb.finish()  # End wandb run\n",
        "\n",
        "# ~~~~~~~~~~~~~~~~~~~~~~~~~~~~~~~~~~~~~~~~~~~~ LAYER CLASS ~~~~~~~~~~~~~~~~~~~~~~~~~~~~~~~~~~~~~~~~~~~~~~~~~~~~~~~~~~~~~~~~~~~~~~~~~~~~~~~~~~~~~~~\n",
        "class weightsAndBiasLayer:\n",
        "\n",
        "  def __init__(self,lowlayer,upperlayer):\n",
        "    self.weights = np.random.randn(lowlayer,upperlayer)\n",
        "    self.bias = np.random.randn(1,upperlayer)\n",
        "    # self.weights = np.arange(1,lowlayer*upperlayer + 1).reshape(lowlayer, upperlayer)/1.0\n",
        "    # self.bias = np.arange(1, 1*upperlayer+1).reshape(1, upperlayer)/1.0\n",
        "    #self.weights = np.zeros((lowlayer,upperlayer))\n",
        "    # self.bias = np.zeros((1,upperlayer))\n",
        "\n",
        "  def forwarding(self,x):\n",
        "    return np.dot(x,self.weights) + self.bias\n",
        "\n",
        "#-----------------------------------------------------------------------------------\n",
        "\n",
        "  def activation_function(self,func_type,x):\n",
        "    if(func_type == 'sigmoid'):\n",
        "      return self.sigmoid(x)\n",
        "    elif(func_type == 'softmax'):\n",
        "      return self.softmax(x)\n",
        "\n",
        "\n",
        "  def sigmoid(self,input):\n",
        "    #input = np.clip(input, 1e-15 , 1.-(1e-15))\n",
        "    return 1.0/(1.0 + np.exp(-input))\n",
        "    # sigmoid_x = np.zeros_like(input)\n",
        "    # positive_mask = input >= 0\n",
        "    # sigmoid_x[positive_mask] = 1.0 / (1.0 + np.exp(-input[positive_mask]))\n",
        "    # sigmoid_x[~positive_mask] = np.exp(input[~positive_mask]) / (1.0 + np.exp(input[~positive_mask]))\n",
        "    # return sigmoid_x\n",
        "\n",
        "  def softmax(self,x):\n",
        "    exp_vals = np.exp(x - np.max(x, axis=-1 , keepdims = True))\n",
        "    softmax_vals = exp_vals / np.sum(exp_vals, axis=-1 , keepdims = True)\n",
        "    return softmax_vals\n",
        "#-----------------------------------------------------------------------------------\n",
        "  def diff_function(self,func_type,x):\n",
        "    if(func_type == 'sigmoid'):\n",
        "      return self.diff_sig(x)\n",
        "\n",
        "  def diff_sig(self, x):\n",
        "    func = self.sigmoid(x)\n",
        "    return func*(1-func)\n",
        "\n",
        "#------------------------------------------optimisers-----------------------------------------\n",
        "class optimisation_functions:\n",
        "\n",
        "  def __init__(self,neural_net,opt_func,eta_par,beta_par):\n",
        "    self.opt_type = opt_func\n",
        "    self.neural_net = neural_net\n",
        "    self.eta = eta_par\n",
        "    self.beta = beta_par\n",
        "    self.u_wt = []\n",
        "    self.u_b = []\n",
        "\n",
        "\n",
        "  def update_rule(self):\n",
        "    if(self.opt_type == 'sgd'):\n",
        "      self.sgd()\n",
        "    if(self.opt_type == 'mgd'):\n",
        "      self.mgd()\n",
        "\n",
        "\n",
        "  def sgd(self):\n",
        "    for i in range(1, len(self.neural_net.layer_data) + 1):\n",
        "      self.neural_net.layer_data[i].weights -= (self.eta*self.neural_net.dw[i])\n",
        "      self.neural_net.layer_data[i].bias -= (self.eta*self.neural_net.db[i])\n",
        "\n",
        "  def mgd(self):\n",
        "    if(len(self.u_wt) == 0 ):\n",
        "      self.u_wt = self.neural_net.dw\n",
        "      self.u_b = self.neural_net.db\n",
        "    for i in range(1,len(self.neural_net.layer_data)+1):\n",
        "\n",
        "      self.u_wt[i] = self.beta * self.u_wt[i] + self.neural_net.dw[i]\n",
        "      self.u_b[i] = self.beta * self.u_b[i] + self.neural_net.db[i]\n",
        "      self.neural_net.layer_data[i].weights -= self.eta*self.u_wt[i]\n",
        "      self.neural_net.layer_data[i].bias -= self.eta*self.u_b[i]\n",
        "\n",
        "\n",
        "\n"
      ],
      "metadata": {
        "id": "o7Q3UILy0mma"
      },
      "execution_count": 11,
      "outputs": []
    },
    {
      "cell_type": "code",
      "source": [
        "\n",
        "  parameters = {\n",
        "      'epochs' : 20, #number of epochs\n",
        "      'hidden_layers' : [16,32,64], #hidden layers neuron count and number of hidden layers\n",
        "      'input_size' : 784,\n",
        "      'output_size' : 10,\n",
        "      'learning_rate' : 0.1, #eta\n",
        "      'beta' : 0.9,  #beta for mgd\n",
        "      'optimizer' : 'sgd', #type of optimizer such as sgd,nadam,nestro etc\n",
        "      'batch_size' : 32, #16,32\n",
        "      'weight_initilisation' : 'random', #random,xaviar\n",
        "      'activation' : 'sigmoid', #type of actvation\n",
        "  }\n",
        "  def reshape_1D(data):\n",
        "    return data.reshape(data.shape[0],-1)/255.0\n",
        "\n",
        "  def one_hot_vector(y):\n",
        "    hot_vectors = np.zeros((len(y), 10))  # Initialize array with zeros\n",
        "    # indices = np.random.randint(0, num_classes, n)  # Generate random class indices for each data point\n",
        "    hot_vectors[np.arange(len(y)), y] = 1  # Set the corresponding index to 1 for each one-hot vector\n",
        "    return hot_vectors\n",
        "\n",
        "  X_train = reshape_1D(x_train)\n",
        "  Y_train = one_hot_vector(y_train)\n",
        "  model = NeuralNet(parameters)\n",
        "\n",
        "  model.train(X_train, Y_train)"
      ],
      "metadata": {
        "colab": {
          "base_uri": "https://localhost:8080/",
          "height": 451
        },
        "id": "bFK3B5k1MImY",
        "outputId": "fda5e4cf-c0ef-4084-e347-3828836cf7fb"
      },
      "execution_count": 6,
      "outputs": [
        {
          "output_type": "display_data",
          "data": {
            "text/plain": [
              "<IPython.core.display.HTML object>"
            ],
            "text/html": [
              "Tracking run with wandb version 0.19.7"
            ]
          },
          "metadata": {}
        },
        {
          "output_type": "display_data",
          "data": {
            "text/plain": [
              "<IPython.core.display.HTML object>"
            ],
            "text/html": [
              "Run data is saved locally in <code>/content/wandb/run-20250303_162918-1771z883</code>"
            ]
          },
          "metadata": {}
        },
        {
          "output_type": "display_data",
          "data": {
            "text/plain": [
              "<IPython.core.display.HTML object>"
            ],
            "text/html": [
              "Syncing run <strong><a href='https://wandb.ai/anjaliv-indian-institute-of-technology-madras/NeuralNetwork/runs/1771z883' target=\"_blank\">training_run_1</a></strong> to <a href='https://wandb.ai/anjaliv-indian-institute-of-technology-madras/NeuralNetwork' target=\"_blank\">Weights & Biases</a> (<a href='https://wandb.me/developer-guide' target=\"_blank\">docs</a>)<br>"
            ]
          },
          "metadata": {}
        },
        {
          "output_type": "display_data",
          "data": {
            "text/plain": [
              "<IPython.core.display.HTML object>"
            ],
            "text/html": [
              " View project at <a href='https://wandb.ai/anjaliv-indian-institute-of-technology-madras/NeuralNetwork' target=\"_blank\">https://wandb.ai/anjaliv-indian-institute-of-technology-madras/NeuralNetwork</a>"
            ]
          },
          "metadata": {}
        },
        {
          "output_type": "display_data",
          "data": {
            "text/plain": [
              "<IPython.core.display.HTML object>"
            ],
            "text/html": [
              " View run at <a href='https://wandb.ai/anjaliv-indian-institute-of-technology-madras/NeuralNetwork/runs/1771z883' target=\"_blank\">https://wandb.ai/anjaliv-indian-institute-of-technology-madras/NeuralNetwork/runs/1771z883</a>"
            ]
          },
          "metadata": {}
        },
        {
          "output_type": "stream",
          "name": "stdout",
          "text": [
            "Epoch: 1 Loss: 0.770555071576145 Accuracy: 72.32\n",
            "Epoch: 2 Loss: 0.6771485155709037 Accuracy: 75.86833333333334\n",
            "Epoch: 3 Loss: 0.6268735196606658 Accuracy: 77.68333333333334\n",
            "Epoch: 4 Loss: 0.5934685824212996 Accuracy: 78.75666666666666\n",
            "Epoch: 5 Loss: 0.5681082965757337 Accuracy: 79.75166666666667\n",
            "Epoch: 6 Loss: 0.5480023010153492 Accuracy: 80.415\n",
            "Epoch: 7 Loss: 0.5312117003783148 Accuracy: 80.99666666666666\n",
            "Epoch: 8 Loss: 0.5173822125611663 Accuracy: 81.40166666666667\n",
            "Epoch: 9 Loss: 0.5058887653814172 Accuracy: 81.75666666666666\n",
            "Epoch: 10 Loss: 0.4961894916461474 Accuracy: 82.10333333333332\n",
            "Epoch: 11 Loss: 0.48778931185175994 Accuracy: 82.42\n",
            "Epoch: 12 Loss: 0.4803752660195635 Accuracy: 82.665\n",
            "Epoch: 13 Loss: 0.4736602053383818 Accuracy: 82.915\n",
            "Epoch: 14 Loss: 0.46743678498635294 Accuracy: 83.13333333333334\n",
            "Epoch: 15 Loss: 0.4616370678190502 Accuracy: 83.38499999999999\n",
            "Epoch: 16 Loss: 0.4562206019555291 Accuracy: 83.54833333333333\n",
            "Epoch: 17 Loss: 0.4511267755193781 Accuracy: 83.74833333333333\n",
            "Epoch: 18 Loss: 0.44635444534150676 Accuracy: 83.91\n",
            "Epoch: 19 Loss: 0.44191320372818493 Accuracy: 84.07\n",
            "Epoch: 20 Loss: 0.4377820430757664 Accuracy: 84.17\n"
          ]
        }
      ]
    },
    {
      "cell_type": "code",
      "source": [
        "\n",
        "  # parameters = {\n",
        "  #     'epochs' : 30, #number of epochs\n",
        "  #     'hidden_layers' : [16,32,64], #hidden layers neuron count and number of hidden layers\n",
        "  #     'input_size' : 784,\n",
        "  #     'output_size' : 10,\n",
        "  #     'learning_rate' : 0.01, #eta\n",
        "  #     'beta' : 0.9,  #beta for mgd\n",
        "  #     'optimizer' : 'sgd', #type of optimizer such as sgd,nadam,nestro etc\n",
        "  #     'batch_size' : 16,\n",
        "  #     'weight_initilisation' : 'random', #random,xaviar\n",
        "  #     'activation' : 'sigmoid', #type of actvation\n",
        "  # }\n",
        "  # def reshape_1D(data):\n",
        "  #   return data.reshape(data.shape[0],-1)/255.0\n",
        "\n",
        "  # def one_hot_vector(y):\n",
        "  #   hot_vectors = np.zeros((len(y), 10))  # Initialize array with zeros\n",
        "  #   # indices = np.random.randint(0, num_classes, n)  # Generate random class indices for each data point\n",
        "  #   hot_vectors[np.arange(len(y)), y] = 1  # Set the corresponding index to 1 for each one-hot vector\n",
        "  #   return hot_vectors\n",
        "\n",
        "  # X_train = reshape_1D(x_train)\n",
        "  # Y_train = one_hot_vector(y_train)\n",
        "  # model = NeuralNet(parameters)\n",
        "\n",
        "  # model.train(X_train, Y_train)\n",
        "\n",
        "\n",
        "  parameters = {\n",
        "      'epochs' : 20, #number of epochs\n",
        "      'hidden_layers' : [16,32,64], #hidden layers neuron count and number of hidden layers\n",
        "      'input_size' : 784,\n",
        "      'output_size' : 10,\n",
        "      'learning_rate' : 0.01, #eta\n",
        "      'beta' : 0.9,  #beta for mgd\n",
        "      'optimizer' : 'sgd', #type of optimizer such as sgd,nadam,nestro etc\n",
        "      'batch_size' : 64,\n",
        "      'weight_initilisation' : 'random', #random,xaviar\n",
        "      'activation' : 'sigmoid', #type of actvation\n",
        "  }\n",
        "  def reshape_1D(data):\n",
        "    return data.reshape(data.shape[0],-1)/255.0\n",
        "\n",
        "  def one_hot_vector(y):\n",
        "    hot_vectors = np.zeros((len(y), 10))  # Initialize array with zeros\n",
        "    # indices = np.random.randint(0, num_classes, n)  # Generate random class indices for each data point\n",
        "    hot_vectors[np.arange(len(y)), y] = 1  # Set the corresponding index to 1 for each one-hot vector\n",
        "    return hot_vectors\n",
        "\n",
        "  X_train = reshape_1D(x_train)\n",
        "  Y_train = one_hot_vector(y_train)\n",
        "  model = NeuralNet(parameters)\n",
        "\n",
        "  model.train(X_train, Y_train)"
      ],
      "metadata": {
        "colab": {
          "base_uri": "https://localhost:8080/",
          "height": 750
        },
        "id": "nAIZxwqbbwqw",
        "outputId": "725ab3d0-c222-4a37-cf96-d024a3d1a35f"
      },
      "execution_count": 12,
      "outputs": [
        {
          "output_type": "stream",
          "name": "stdout",
          "text": [
            "Epoch: 1 Loss: 1.6841 Accuracy: 41.99%\n",
            "Epoch: 2 Loss: 1.3937 Accuracy: 52.15%\n",
            "Epoch: 3 Loss: 1.2499 Accuracy: 56.34%\n",
            "Epoch: 4 Loss: 1.1576 Accuracy: 59.26%\n",
            "Epoch: 5 Loss: 1.0886 Accuracy: 61.08%\n",
            "Epoch: 6 Loss: 1.0355 Accuracy: 62.61%\n",
            "Epoch: 7 Loss: 0.9939 Accuracy: 63.86%\n",
            "Epoch: 8 Loss: 0.9606 Accuracy: 64.79%\n",
            "Epoch: 9 Loss: 0.9336 Accuracy: 65.52%\n",
            "Epoch: 10 Loss: 0.9113 Accuracy: 66.24%\n",
            "Epoch: 11 Loss: 0.8925 Accuracy: 66.72%\n",
            "Epoch: 12 Loss: 0.8761 Accuracy: 67.16%\n",
            "Epoch: 13 Loss: 0.8616 Accuracy: 67.57%\n",
            "Epoch: 14 Loss: 0.8486 Accuracy: 68.02%\n",
            "Epoch: 15 Loss: 0.8368 Accuracy: 68.39%\n",
            "Epoch: 16 Loss: 0.8261 Accuracy: 68.75%\n",
            "Epoch: 17 Loss: 0.8164 Accuracy: 69.15%\n",
            "Epoch: 18 Loss: 0.8076 Accuracy: 69.41%\n",
            "Epoch: 19 Loss: 0.7993 Accuracy: 69.67%\n",
            "Epoch: 20 Loss: 0.7916 Accuracy: 69.99%\n"
          ]
        },
        {
          "output_type": "display_data",
          "data": {
            "text/plain": [
              "<IPython.core.display.HTML object>"
            ],
            "text/html": []
          },
          "metadata": {}
        },
        {
          "output_type": "display_data",
          "data": {
            "text/plain": [
              "<IPython.core.display.HTML object>"
            ],
            "text/html": [
              "<br>    <style><br>        .wandb-row {<br>            display: flex;<br>            flex-direction: row;<br>            flex-wrap: wrap;<br>            justify-content: flex-start;<br>            width: 100%;<br>        }<br>        .wandb-col {<br>            display: flex;<br>            flex-direction: column;<br>            flex-basis: 100%;<br>            flex: 1;<br>            padding: 10px;<br>        }<br>    </style><br><div class=\"wandb-row\"><div class=\"wandb-col\"><h3>Run history:</h3><br/><table class=\"wandb\"><tr><td>Accuracy</td><td>▇▇█████████▄▅▅▆▆▆▇▇▇▇▇▇▇▇▇▁▃▃▄▅▅▆▆▄▅▅▅▅▆</td></tr><tr><td>Epoch</td><td>▁▃▃▄▄▅▅▆▁▁▂▃▃▃▄▆▇▇▇█▁▁▁▁▂▃▃▄▄▅▁▂▂▃▄▄▅▅▅▆</td></tr><tr><td>Loss</td><td>▂▁▁▁▁▄▃▃▃▃▂▂▂▂▂▂▂▂▂▂█▅▅▄▄▄▄▃▃▃▃▇▆▅▅▃▃▃▃▃</td></tr></table><br/></div><div class=\"wandb-col\"><h3>Run summary:</h3><br/><table class=\"wandb\"><tr><td>Accuracy</td><td>69.98833</td></tr><tr><td>Epoch</td><td>20</td></tr><tr><td>Loss</td><td>0.79158</td></tr></table><br/></div></div>"
            ]
          },
          "metadata": {}
        },
        {
          "output_type": "display_data",
          "data": {
            "text/plain": [
              "<IPython.core.display.HTML object>"
            ],
            "text/html": [
              " View run <strong style=\"color:#cdcd00\">training_run_1</strong> at: <a href='https://wandb.ai/anjaliv-indian-institute-of-technology-madras/NeuralNetwork/runs/1771z883' target=\"_blank\">https://wandb.ai/anjaliv-indian-institute-of-technology-madras/NeuralNetwork/runs/1771z883</a><br> View project at: <a href='https://wandb.ai/anjaliv-indian-institute-of-technology-madras/NeuralNetwork' target=\"_blank\">https://wandb.ai/anjaliv-indian-institute-of-technology-madras/NeuralNetwork</a><br>Synced 5 W&B file(s), 0 media file(s), 0 artifact file(s) and 0 other file(s)"
            ]
          },
          "metadata": {}
        },
        {
          "output_type": "display_data",
          "data": {
            "text/plain": [
              "<IPython.core.display.HTML object>"
            ],
            "text/html": [
              "Find logs at: <code>./wandb/run-20250303_162918-1771z883/logs</code>"
            ]
          },
          "metadata": {}
        }
      ]
    }
  ]
}